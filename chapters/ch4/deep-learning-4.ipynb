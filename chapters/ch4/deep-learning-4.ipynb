{
 "cells": [
  {
   "cell_type": "markdown",
   "id": "0d7f8b1b-6b71-46cd-a628-63fa34ea90df",
   "metadata": {},
   "source": [
    "# Chapter 4"
   ]
  },
  {
   "cell_type": "code",
   "execution_count": null,
   "id": "7bd96362-6483-4099-98f9-5d9c44690ce2",
   "metadata": {},
   "outputs": [
    {
     "name": "stdout",
     "output_type": "stream",
     "text": [
      "weight=0.10 error=0.3198 delta=-0.5655\n",
      "weight=0.75 error=0.9192 delta=0.9587\n",
      "weight=1.50 error=7.3848 delta=2.7175\n"
     ]
    },
    {
     "name": "stdout",
     "output_type": "stream",
     "text": [
      "weight=0.10 error=0.3198 delta=-0.5655\n",
      "weight=0.75 error=0.9192 delta=0.9587\n",
      "weight=1.50 error=7.3848 delta=2.7175\n"
     ]
    }
   ],
   "source": [
    "knob_weight = [0.1, 0.75, 1.5]\n",
    "input_data = 2.345\n",
    "goal_pred = 0.8\n",
    "\n",
    "for weight in knob_weight:\n",
    "    pred = input_data * weight\n",
    "    delta = (pred - goal_pred)\n",
    "    error = delta ** 2\n",
    "\n",
    "    print(f'{weight=:.2f} {error=:.4f} {delta=:.4f}')"
   ]
  },
  {
   "cell_type": "code",
   "execution_count": null,
   "id": "3da6295f",
   "metadata": {},
   "outputs": [],
   "source": [
    "def network(data:float, weight: float) -> float:\n",
    "    return data * weight\n",
    "\n",
    "weight: float = 0.1\n",
    "step: float = 0.01"
   ]
  },
  {
   "cell_type": "code",
   "execution_count": null,
   "id": "c766366a",
   "metadata": {},
   "outputs": [
    {
     "name": "stdout",
     "output_type": "stream",
     "text": [
      "win_pred=0.70 pred=0.8500 toes=8.50 error=0.0225 delta=+0.15\n",
      "win_pred=0.05 pred=0.0400 toes=0.40 error=0.0001 delta=-0.01\n",
      "win_pred=0.90 pred=1.0000 toes=10.00 error=0.0100 delta=+0.10\n",
      "win_pred=0.85 pred=1.5000 toes=15.00 error=0.4225 delta=+0.65\n"
     ]
    }
   ],
   "source": [
    "avg_toes = [8.5, 0.4, 10, 15]\n",
    "win_preds = [0.7, 0.05, 0.9, 0.85]\n",
    "\n",
    "for toes, win_pred in zip(avg_toes, win_preds):\n",
    "    pred = network(toes, weight)\n",
    "    delta = pred - win_pred\n",
    "    error = delta ** 2\n",
    "    print(f'{win_pred=:.2f} {pred=:.4f} {toes=:.2f} {error=:.4f} {delta=:+.2f}')"
   ]
  },
  {
   "cell_type": "code",
   "execution_count": null,
   "id": "3eb85492",
   "metadata": {},
   "outputs": [
    {
     "name": "stdout",
     "output_type": "stream",
     "text": [
      "win_pred=0.7 (pred, error)=(0.85, 0.0225) (pred_up, error_up)=(0.935, 0.0552) (pred_down, error_down)=(0.765, 0.0042)\n",
      "win_pred=0.05 (pred, error)=(0.04, 0.0001) (pred_up, error_up)=(0.044, 0.0) (pred_down, error_down)=(0.036, 0.0002)\n",
      "win_pred=0.9 (pred, error)=(1.0, 0.01) (pred_up, error_up)=(1.1, 0.04) (pred_down, error_down)=(0.9, 0.0)\n",
      "win_pred=0.85 (pred, error)=(1.5, 0.4225) (pred_up, error_up)=(1.65, 0.64) (pred_down, error_down)=(1.35, 0.25)\n"
     ]
    }
   ],
   "source": [
    "for toes, win_pred in zip(avg_toes, win_preds):\n",
    "    pred = network(toes, weight)\n",
    "    pred_up = network(toes, weight + step)\n",
    "    pred_down = network(toes, weight - step)\n",
    "\n",
    "    delta = pred - win_pred\n",
    "    delta_up = pred_up - win_pred\n",
    "    delta_down = pred_down - win_pred\n",
    "\n",
    "    error = delta**2\n",
    "    error_up = delta_up**2\n",
    "    error_down = delta_down**2\n",
    "\n",
    "    for prefix in \"error\", \"delta\", \"pred\":\n",
    "        for suffix in \"\", \"_up\", \"_down\":\n",
    "            name = prefix + suffix\n",
    "            globals()[name] = round(globals()[name], 4)\n",
    "\n",
    "    print(\n",
    "        f\"{win_pred=} {(pred, error)=} {(pred_up, error_up)=} {(pred_down, error_down)=}\"\n",
    "    )"
   ]
  },
  {
   "cell_type": "code",
   "execution_count": 72,
   "id": "1cbd5ec9",
   "metadata": {},
   "outputs": [],
   "source": [
    "def learn_hot_cold(input_data: float, weight: float, correct_pred: float, *, step: float = 0.01, threshold: float=0.01) -> float:\n",
    "    while True:\n",
    "        pred = network(input_data, weight)\n",
    "        pred_up = network(input_data, weight + step)\n",
    "        pred_down = network(input_data, weight - step)\n",
    "\n",
    "        delta = pred - correct_pred\n",
    "        delta_up = pred_up - correct_pred\n",
    "        delta_down = pred_down - correct_pred\n",
    "\n",
    "        error = delta ** 2\n",
    "        error_up = delta_up ** 2\n",
    "        error_down = delta_down ** 2\n",
    "\n",
    "        if error > threshold:\n",
    "            weight += -step if error_down < error_up else +step\n",
    "        else: return weight"
   ]
  },
  {
   "cell_type": "code",
   "execution_count": 73,
   "id": "1dc0b8c6",
   "metadata": {},
   "outputs": [
    {
     "name": "stdout",
     "output_type": "stream",
     "text": [
      "new_weight=0.0865 weight=1.5965\n"
     ]
    }
   ],
   "source": [
    "new_weight = learn_hot_cold(avg_toes[0], weight, win_preds[0])\n",
    "print(f'{new_weight=:.4f} {weight=:.4f}')"
   ]
  },
  {
   "cell_type": "code",
   "execution_count": 90,
   "id": "e9c8c0ed",
   "metadata": {},
   "outputs": [
    {
     "name": "stdout",
     "output_type": "stream",
     "text": [
      "new_factor=19.9999 factor=1.5000 network(test_data, factor)=9.00 network(test_data, new_factor)=120.00\n",
      "datum=10.00 network(datum, new_factor)=200.00\n",
      "datum=5.00 network(datum, new_factor)=100.00\n",
      "datum=8.00 network(datum, new_factor)=160.00\n",
      "datum=6.00 network(datum, new_factor)=120.00\n",
      "datum=16.00 network(datum, new_factor)=320.00\n"
     ]
    }
   ],
   "source": [
    "factor = 1.5\n",
    "test_data, correct_factor = 6, 120\n",
    "\n",
    "new_factor = learn_hot_cold(test_data, factor, correct_factor, threshold=1e-7, step=1e-7)\n",
    "print(f'{new_factor=:.4f} {factor=:.4f} {network(test_data, factor)=:.2f} {network(test_data, new_factor)=:.2f}')\n",
    "\n",
    "more_data = 10, 5, 8, 6, 16\n",
    "\n",
    "for datum in more_data:\n",
    "    print(f'{datum=:.2f} {network(datum, new_factor)=:.2f}')\n"
   ]
  },
  {
   "cell_type": "code",
   "execution_count": 69,
   "id": "282ea9af",
   "metadata": {},
   "outputs": [
    {
     "name": "stdout",
     "output_type": "stream",
     "text": [
      "error=0.3025 pred=0.25\n",
      "error=0.1702 pred=0.39\n",
      "error=0.0957 pred=0.49\n",
      "error=0.0538 pred=0.57\n",
      "error=0.0303 pred=0.63\n",
      "error=0.0170 pred=0.67\n",
      "error=0.0096 pred=0.70\n",
      "error=0.0054 pred=0.73\n",
      "error=0.0030 pred=0.74\n",
      "error=0.0017 pred=0.76\n",
      "error=0.0010 pred=0.77\n",
      "error=0.0005 pred=0.78\n",
      "error=0.0003 pred=0.78\n",
      "error=0.0002 pred=0.79\n",
      "error=0.0001 pred=0.79\n",
      "error=0.0001 pred=0.79\n",
      "error=0.0000 pred=0.79\n",
      "error=0.0000 pred=0.80\n",
      "error=0.0000 pred=0.80\n",
      "error=0.0000 pred=0.80\n"
     ]
    }
   ],
   "source": [
    "weight = 0.5\n",
    "goal_pred = 0.8\n",
    "input_data = 0.5\n",
    "\n",
    "for _ in range(20):\n",
    "    pred = network(input_data, weight)\n",
    "    delta = pred - goal_pred\n",
    "    error = delta ** 2\n",
    "    diramt = delta * input_data\n",
    "    weight -= diramt\n",
    "    print(f'{error=:.4f} {pred=:.2f}')"
   ]
  },
  {
   "cell_type": "code",
   "execution_count": 79,
   "id": "d64bd379",
   "metadata": {},
   "outputs": [],
   "source": [
    "def learn_gradient_descent(input_data: float, weight: float, correct_pred: float, *, alpha: float = 1e-2, threshold: float = 1e-5):\n",
    "    while True:\n",
    "        pred = network(input_data, weight)\n",
    "        delta = pred - correct_pred\n",
    "        error = delta ** 2\n",
    "        weight_delta = delta * input_data\n",
    "        if error > threshold:\n",
    "            weight -= weight_delta * alpha\n",
    "        else: return weight"
   ]
  },
  {
   "cell_type": "code",
   "execution_count": 91,
   "id": "112218d0",
   "metadata": {},
   "outputs": [
    {
     "name": "stdout",
     "output_type": "stream",
     "text": [
      "new_factor=20.0000 factor=1.5000 network(test_data, factor)=9.00 network(test_data, new_factor)=120.00\n",
      "datum=10.00 network(datum, new_factor)=200.00\n",
      "datum=5.00 network(datum, new_factor)=100.00\n",
      "datum=8.00 network(datum, new_factor)=160.00\n",
      "datum=6.00 network(datum, new_factor)=120.00\n",
      "datum=16.00 network(datum, new_factor)=320.00\n"
     ]
    }
   ],
   "source": [
    "factor = 1.5\n",
    "test_data, correct_pred = 6, 120\n",
    "\n",
    "new_factor = learn_gradient_descent(data, factor, correct_pred, threshold=1e-10)\n",
    "print(f'{new_factor=:.4f} {factor=:.4f} {network(test_data, factor)=:.2f} {network(test_data, new_factor)=:.2f}')\n",
    "\n",
    "more_data = 10, 5, 8, 6, 16\n",
    "\n",
    "for datum in more_data:\n",
    "    print(f'{datum=:.2f} {network(datum, new_factor)=:.2f}')\n"
   ]
  },
  {
   "cell_type": "code",
   "execution_count": null,
   "id": "060663f6",
   "metadata": {},
   "outputs": [],
   "source": []
  }
 ],
 "metadata": {
  "kernelspec": {
   "display_name": "Python 3 (ipykernel)",
   "language": "python",
   "name": "python3"
  },
  "language_info": {
   "codemirror_mode": {
    "name": "ipython",
    "version": 3
   },
   "file_extension": ".py",
   "mimetype": "text/x-python",
   "name": "python",
   "nbconvert_exporter": "python",
   "pygments_lexer": "ipython3",
   "version": "3.12.3"
  }
 },
 "nbformat": 4,
 "nbformat_minor": 5
}
